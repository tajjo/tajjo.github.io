{
 "cells": [
  {
   "cell_type": "code",
   "execution_count": 1,
   "id": "02a27ffc",
   "metadata": {},
   "outputs": [],
   "source": [
    "import pandas as pd\n",
    "from itertools import groupby"
   ]
  },
  {
   "cell_type": "code",
   "execution_count": 2,
   "id": "328f1cf1",
   "metadata": {},
   "outputs": [],
   "source": [
    "df=pd.read_csv('find_empty_room.csv', encoding='utf-8')"
   ]
  },
  {
   "cell_type": "code",
   "execution_count": 8,
   "id": "8207e39a",
   "metadata": {},
   "outputs": [
    {
     "name": "stdout",
     "output_type": "stream",
     "text": [
      "빈강의실: 176호, 이용가능시간: 9시간 15분\n",
      "빈강의실: 146호, 이용가능시간: 9시간 15분\n",
      "빈강의실: 266호, 이용가능시간: 9시간 15분\n",
      "빈강의실: b105호, 이용가능시간: 6시간 30분\n",
      "빈강의실: b102호, 이용가능시간: 6시간 30분\n",
      "빈강의실: 165호, 이용가능시간: 6시간 30분\n",
      "빈강의실: 102-1호, 이용가능시간: 6시간 30분\n",
      "빈강의실: 150호, 이용가능시간: 6시간 30분\n",
      "빈강의실: 263호, 이용가능시간: 6시간 30분\n",
      "빈강의실: 369호, 이용가능시간: 6시간 30분\n",
      "빈강의실: 149호, 이용가능시간: 5시간 0분\n",
      "빈강의실: 142-2호, 이용가능시간: 4시간 15분\n",
      "빈강의실: b104호, 이용가능시간: 3시간 30분\n",
      "빈강의실: b103호, 이용가능시간: 3시간 30분\n",
      "빈강의실: 142-1호, 이용가능시간: 3시간 15분\n",
      "빈강의실: 148호, 이용가능시간: 3시간 15분\n",
      "빈강의실: 371호, 이용가능시간: 3시간 15분\n",
      "빈강의실: 365호, 이용가능시간: 3시간 15분\n",
      "빈강의실: 363호, 이용가능시간: 2시간 0분\n",
      "빈강의실: 367호, 이용가능시간: 1시간 45분\n"
     ]
    }
   ],
   "source": [
    "def find_available_rooms(day, building, start_time):\n",
    "    # 해당 요일과 건물의 데이터 필터링\n",
    "    filtered_df = df[(df['day'] == day) & (df['building'] == building)]\n",
    "    \n",
    "    # 시작 시간 이후의 시간대 컬럼 추출\n",
    "    time_columns = df.columns[3:]  # 'day', 'building', 'room' 컬럼 이후의 시간대 컬럼들\n",
    "    start_index = time_columns.get_loc(str(start_time))\n",
    "    relevant_time_columns = time_columns[start_index:]\n",
    "    \n",
    "    # 각 강의실의 시작 시간 이후 0의 연속 개수 계산\n",
    "    room_availability = []\n",
    "    for index, row in filtered_df.iterrows():\n",
    "        room = row['room']\n",
    "        availability_sequence = row[relevant_time_columns].tolist()\n",
    "        longest_zero_sequence = max([len(list(group)) for value, group in groupby(availability_sequence) if value == 0])\n",
    "        room_availability.append((room, longest_zero_sequence))\n",
    "    \n",
    "    # 0이 가장 많은 순서로 정렬\n",
    "    room_availability.sort(key=lambda x: x[1], reverse=True)\n",
    "    \n",
    "    # 출력\n",
    "    for room, zero_count in room_availability:\n",
    "        hour=zero_count//4\n",
    "        minute=(zero_count%4)*15\n",
    "        print(f\"빈강의실: {room}호, 이용가능시간: {hour}시간 {minute}분\")\n",
    "\n",
    "# 예시 호출\n",
    "find_available_rooms(5, 'eng', 9)"
   ]
  },
  {
   "cell_type": "code",
   "execution_count": 25,
   "id": "bcc69e6e",
   "metadata": {},
   "outputs": [
    {
     "name": "stdout",
     "output_type": "stream",
     "text": [
      "빈강의실: 102-1호, 이용가능시간: 6시간 30분\n",
      "빈강의실: 142-2호, 이용가능시간: 4시간 15분\n",
      "빈강의실: 142-1호, 이용가능시간: 3시간 15분\n",
      "빈강의실: 146호, 이용가능시간: 9시간 15분\n",
      "빈강의실: 148호, 이용가능시간: 3시간 15분\n",
      "빈강의실: 149호, 이용가능시간: 5시간 0분\n",
      "빈강의실: 150호, 이용가능시간: 6시간 30분\n",
      "빈강의실: 165호, 이용가능시간: 6시간 30분\n",
      "빈강의실: 176호, 이용가능시간: 9시간 15분\n",
      "빈강의실: 263호, 이용가능시간: 6시간 30분\n",
      "빈강의실: 266호, 이용가능시간: 9시간 15분\n",
      "빈강의실: 363호, 이용가능시간: 2시간 0분\n",
      "빈강의실: 365호, 이용가능시간: 3시간 15분\n",
      "빈강의실: 367호, 이용가능시간: 1시간 45분\n",
      "빈강의실: 369호, 이용가능시간: 6시간 30분\n",
      "빈강의실: 371호, 이용가능시간: 3시간 15분\n",
      "빈강의실: b102호, 이용가능시간: 6시간 30분\n",
      "빈강의실: b103호, 이용가능시간: 3시간 30분\n",
      "빈강의실: b104호, 이용가능시간: 3시간 30분\n",
      "빈강의실: b105호, 이용가능시간: 6시간 30분\n"
     ]
    }
   ],
   "source": [
    "def find_shortest_rooms(day, building, start_time):\n",
    "    # 해당 요일과 건물의 데이터 필터링\n",
    "    filtered_df = df[(df['day'] == day) & (df['building'] == building)]\n",
    "    \n",
    "    # 시작 시간 이후의 시간대 컬럼 추출\n",
    "    time_columns = df.columns[3:]  # 'day', 'building', 'room' 컬럼 이후의 시간대 컬럼들\n",
    "    start_index = time_columns.get_loc(str(start_time))\n",
    "    relevant_time_columns = time_columns[start_index:]\n",
    "    \n",
    "    # 각 강의실의 시작 시간 이후 0의 연속 개수 계산\n",
    "    room_availability = []\n",
    "    for index, row in filtered_df.iterrows():\n",
    "        room = row['room']\n",
    "        availability_sequence = row[relevant_time_columns].tolist()\n",
    "        longest_zero_sequence = max([len(list(group)) for value, group in groupby(availability_sequence) if value == 0])\n",
    "        room_availability.append((room, longest_zero_sequence))\n",
    "\n",
    "    # room번호가 작은 순으로 정렬, 그 다음으로 0이 가장 많은 순으로 정렬\n",
    "    room_availability.sort(key=lambda x: (x[0][0] == 'b', int(x[0].split('-')[0]) if '-' in x[0] else int(''.join(filter(str.isdigit, x[0]))), -x[1]))\n",
    "\n",
    "    # 출력\n",
    "    for room, zero_count in room_availability:\n",
    "        hour=zero_count//4\n",
    "        minute=(zero_count%4)*15\n",
    "        print(f\"빈강의실: {room}호, 이용가능시간: {hour}시간 {minute}분\")\n",
    "\n",
    "# 예시 호출\n",
    "find_shortest_rooms(5, 'eng', 9)"
   ]
  },
  {
   "cell_type": "code",
   "execution_count": null,
   "id": "3e37103c",
   "metadata": {},
   "outputs": [],
   "source": []
  }
 ],
 "metadata": {
  "kernelspec": {
   "display_name": "Python 3",
   "language": "python",
   "name": "python3"
  },
  "language_info": {
   "codemirror_mode": {
    "name": "ipython",
    "version": 3
   },
   "file_extension": ".py",
   "mimetype": "text/x-python",
   "name": "python",
   "nbconvert_exporter": "python",
   "pygments_lexer": "ipython3",
   "version": "3.8.8"
  }
 },
 "nbformat": 4,
 "nbformat_minor": 5
}
