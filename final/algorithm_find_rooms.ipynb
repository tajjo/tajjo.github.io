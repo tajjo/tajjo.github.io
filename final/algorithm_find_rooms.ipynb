{
 "cells": [
  {
   "cell_type": "code",
   "execution_count": 2,
   "id": "02a27ffc",
   "metadata": {},
   "outputs": [],
   "source": [
    "import pandas as pd\n",
    "from itertools import groupby"
   ]
  },
  {
   "cell_type": "code",
   "execution_count": 3,
   "id": "328f1cf1",
   "metadata": {},
   "outputs": [],
   "source": [
    "df=pd.read_csv('find_empty_room.csv', encoding='utf-8')"
   ]
  },
  {
   "cell_type": "code",
   "execution_count": 8,
   "id": "8207e39a",
   "metadata": {},
   "outputs": [
    {
     "name": "stdout",
     "output_type": "stream",
     "text": [
      "빈강의실: b105호, 이용가능시간: 4시간 0분\n",
      "빈강의실: b102호, 이용가능시간: 4시간 0분\n",
      "빈강의실: 165호, 이용가능시간: 4시간 0분\n"
     ]
    }
   ],
   "source": [
    "def find_available_rooms(day, building, start_time):\n",
    "    # 해당 요일과 건물의 데이터 필터링\n",
    "    filtered_df = df[(df['day'] == day) & (df['building'] == building)]\n",
    "    \n",
    "    # 시작 시간 이후의 시간대 컬럼 추출\n",
    "    time_columns = df.columns[3:]  # 'day', 'building', 'room' 컬럼 이후의 시간대 컬럼들\n",
    "    start_index = time_columns.get_loc(str(start_time))\n",
    "    relevant_time_columns = time_columns[start_index:]\n",
    "    \n",
    "    # 각 강의실의 시작 시간 이후 0의 연속 개수 계산\n",
    "    room_availability = []\n",
    "    for index, row in filtered_df.iterrows():\n",
    "        room = row['room']\n",
    "        availability_sequence = row[relevant_time_columns].tolist()\n",
    "        longest_zero_sequence = max([len(list(group)) for value, group in groupby(availability_sequence) if value == 0])\n",
    "        room_availability.append((room, longest_zero_sequence))\n",
    "    \n",
    "    # 0이 가장 많은 순서로 정렬\n",
    "    room_availability.sort(key=lambda x: x[1], reverse=True)\n",
    "    \n",
    "    # 상위 3개의 결과만 출력\n",
    "    top_3_rooms = room_availability[:3]\n",
    "    \n",
    "    # 출력\n",
    "    for room, zero_count in top_3_rooms:\n",
    "        hour = zero_count // 4\n",
    "        minute = (zero_count % 4) * 15\n",
    "        print(f\"빈강의실: {room}호, 이용가능시간: {hour}시간 {minute-15}분\")\n",
    "\n",
    "# 예시 호출\n",
    "find_available_rooms(5, 'eng', 14)"
   ]
  },
  {
   "cell_type": "code",
   "execution_count": 9,
   "id": "bcc69e6e",
   "metadata": {},
   "outputs": [
    {
     "name": "stdout",
     "output_type": "stream",
     "text": [
      "빈강의실: 102-1호, 이용가능시간: 6시간 15분\n",
      "빈강의실: 142-2호, 이용가능시간: 4시간 0분\n",
      "빈강의실: 142-1호, 이용가능시간: 3시간 0분\n"
     ]
    }
   ],
   "source": [
    "def find_shortest_rooms(day, building, start_time):\n",
    "    # 해당 요일과 건물의 데이터 필터링\n",
    "    filtered_df = df[(df['day'] == day) & (df['building'] == building)]\n",
    "    \n",
    "    # 시작 시간 이후의 시간대 컬럼 추출\n",
    "    time_columns = df.columns[3:]  # 'day', 'building', 'room' 컬럼 이후의 시간대 컬럼들\n",
    "    start_index = time_columns.get_loc(str(start_time))\n",
    "    relevant_time_columns = time_columns[start_index:]\n",
    "    \n",
    "    # 각 강의실의 시작 시간 이후 0의 연속 개수 계산\n",
    "    room_availability = []\n",
    "    for index, row in filtered_df.iterrows():\n",
    "        room = row['room']\n",
    "        availability_sequence = row[relevant_time_columns].tolist()\n",
    "        longest_zero_sequence = max([len(list(group)) for value, group in groupby(availability_sequence) if value == 0])\n",
    "        room_availability.append((room, longest_zero_sequence))\n",
    "\n",
    "    # room번호가 작은 순으로 정렬, 그 다음으로 0이 가장 많은 순으로 정렬\n",
    "    room_availability.sort(key=lambda x: (x[0][0] == 'b', int(x[0].split('-')[0]) if '-' in x[0] else int(''.join(filter(str.isdigit, x[0]))), -x[1]))\n",
    "\n",
    "    # 상위 3개의 결과만 출력\n",
    "    top_3_rooms = room_availability[:3]\n",
    "\n",
    "    # 출력\n",
    "    for room, zero_count in top_3_rooms:\n",
    "        hour = zero_count // 4\n",
    "        minute = (zero_count % 4) * 15\n",
    "        print(f\"빈강의실: {room}호, 이용가능시간: {hour}시간 {minute-15}분\")\n",
    "\n",
    "# 예시 호출\n",
    "find_shortest_rooms(5, 'eng', 9)\n"
   ]
  },
  {
   "cell_type": "code",
   "execution_count": 11,
   "id": "3e37103c",
   "metadata": {},
   "outputs": [
    {
     "name": "stdout",
     "output_type": "stream",
     "text": [
      "강의실: 176호, max 값: 200, 이용가능시간: 1시간 0분\n",
      "강의실: b102호, max 값: 120, 이용가능시간: 0시간 30분\n",
      "강의실: 102-1호, max 값: 90, 이용가능시간: 3시간 30분\n"
     ]
    }
   ],
   "source": [
    "def find_optimal_rooms(day, building, start_time):\n",
    "    # 해당 요일과 건물의 데이터 필터링\n",
    "    filtered_df = df[(df['day'] == day) & (df['building'] == building)]\n",
    "    \n",
    "    # 시작 시간 이후의 시간대 컬럼 추출\n",
    "    time_columns = df.columns[3:]  # 'day', 'building', 'room' 컬럼 이후의 시간대 컬럼들\n",
    "    start_index = time_columns.get_loc(str(start_time))\n",
    "    relevant_time_columns = time_columns[start_index:]\n",
    "    \n",
    "    # 각 강의실의 시작 시간 이후 0의 연속 개수와 max 값 계산\n",
    "    room_availability = []\n",
    "    for index, row in filtered_df.iterrows():\n",
    "        room = row['room']\n",
    "        max_value = row['max']\n",
    "        availability_sequence = row[relevant_time_columns].tolist()\n",
    "        longest_zero_sequence = max([len(list(group)) for value, group in groupby(availability_sequence) if value == 0])\n",
    "        room_availability.append((room, max_value, longest_zero_sequence))\n",
    "    \n",
    "    # max 값이 큰 순서로 정렬하고, max 값이 같으면 0의 연속 개수가 큰 순서로 정렬\n",
    "    room_availability.sort(key=lambda x: (-x[1], -x[2]))\n",
    "    \n",
    "    # 상위 3개의 결과만 출력\n",
    "    top_3_rooms = room_availability[:3]\n",
    "    \n",
    "    # 출력\n",
    "    for room, max_value, zero_count in top_3_rooms:\n",
    "        hour = zero_count // 4\n",
    "        minute = (zero_count % 4) * 15\n",
    "        print(f\"강의실: {room}호, max 값: {max_value}, 이용가능시간: {hour}시간 {minute}분\")\n",
    "\n",
    "# 예시 호출\n",
    "find_optimal_rooms(3, 'eng', 14)\n"
   ]
  },
  {
   "cell_type": "code",
   "execution_count": 16,
   "id": "9c365a39",
   "metadata": {},
   "outputs": [
    {
     "name": "stdout",
     "output_type": "stream",
     "text": [
      "강의실: 263호, 이용가능시간: 6시간 30분\n",
      "강의실: 369호, 이용가능시간: 6시간 30분\n",
      "강의실: 142-1호, 이용가능시간: 3시간 15분\n"
     ]
    }
   ],
   "source": [
    "def find_elec_rooms(day, building, start_time):\n",
    "    # 해당 요일과 건물의 데이터 필터링\n",
    "    filtered_df = df[(df['day'] == day) & (df['building'] == building)]\n",
    "    \n",
    "    # 시작 시간 이후의 시간대 컬럼 추출\n",
    "    time_columns = df.columns[3:]  # 'day', 'building', 'room' 컬럼 이후의 시간대 컬럼들\n",
    "    start_index = time_columns.get_loc(str(start_time))\n",
    "    relevant_time_columns = time_columns[start_index:]\n",
    "    \n",
    "    # 각 강의실의 시작 시간 이후 0의 연속 개수와 elec 값 계산\n",
    "    room_availability = []\n",
    "    for index, row in filtered_df.iterrows():\n",
    "        room = row['room']\n",
    "        elec_value = row['elec']\n",
    "        availability_sequence = row[relevant_time_columns].tolist()\n",
    "        longest_zero_sequence = max([len(list(group)) for value, group in groupby(availability_sequence) if value == 0])\n",
    "        room_availability.append((room, elec_value, longest_zero_sequence))\n",
    "    \n",
    "    # elec 값이 1인 것을 우선으로 하고, 그 다음으로 0의 연속 개수가 큰 순서로 정렬\n",
    "    room_availability.sort(key=lambda x: (-x[1], -x[2]))\n",
    "    \n",
    "    # 상위 3개의 결과만 출력\n",
    "    top_3_rooms = room_availability[:3]\n",
    "    \n",
    "    # 출력\n",
    "    for room, elec_value, zero_count in top_3_rooms:\n",
    "        hour = zero_count // 4\n",
    "        minute = (zero_count % 4) * 15\n",
    "        print(f\"강의실: {room}호, 이용가능시간: {hour}시간 {minute}분\")\n",
    "\n",
    "# 예시 호출\n",
    "find_elec_rooms(5, 'eng', 9)\n"
   ]
  },
  {
   "cell_type": "code",
   "execution_count": 17,
   "id": "4e6f6e6e",
   "metadata": {},
   "outputs": [
    {
     "name": "stdout",
     "output_type": "stream",
     "text": [
      "빈강의실: b105호, 이용가능시간: 4시간 0분\n",
      "빈강의실: b102호, 이용가능시간: 4시간 0분\n",
      "빈강의실: 165호, 이용가능시간: 4시간 0분\n",
      "-----------------------------------\n",
      "빈강의실: 102-1호, 이용가능시간: 4시간 0분\n",
      "빈강의실: 142-2호, 이용가능시간: 4시간 0분\n",
      "빈강의실: 142-1호, 이용가능시간: 1시간 -15분\n",
      "-----------------------------------\n",
      "강의실: 176호, max 값: 200, 이용가능시간: 4시간 15분\n",
      "강의실: b102호, max 값: 120, 이용가능시간: 4시간 15분\n",
      "강의실: 102-1호, max 값: 90, 이용가능시간: 4시간 15분\n",
      "-----------------------------------\n",
      "강의실: 263호, 이용가능시간: 4시간 15분\n",
      "강의실: 369호, 이용가능시간: 4시간 15분\n",
      "강의실: 142-1호, 이용가능시간: 1시간 0분\n"
     ]
    }
   ],
   "source": [
    "# test code\n",
    "# 최대이용시간\n",
    "find_available_rooms(5, 'eng', 14)\n",
    "print('-----------------------------------')\n",
    "# 최단거리\n",
    "find_shortest_rooms(5, 'eng', 14)\n",
    "print('-----------------------------------')\n",
    "# 최대공간\n",
    "find_optimal_rooms(5, 'eng', 14)\n",
    "print('-----------------------------------')\n",
    "# 유틸리티\n",
    "find_elec_rooms(5, 'eng', 14)"
   ]
  },
  {
   "cell_type": "code",
   "execution_count": null,
   "id": "157e42b7",
   "metadata": {},
   "outputs": [],
   "source": []
  }
 ],
 "metadata": {
  "kernelspec": {
   "display_name": "Python 3",
   "language": "python",
   "name": "python3"
  },
  "language_info": {
   "codemirror_mode": {
    "name": "ipython",
    "version": 3
   },
   "file_extension": ".py",
   "mimetype": "text/x-python",
   "name": "python",
   "nbconvert_exporter": "python",
   "pygments_lexer": "ipython3",
   "version": "3.8.8"
  }
 },
 "nbformat": 4,
 "nbformat_minor": 5
}
